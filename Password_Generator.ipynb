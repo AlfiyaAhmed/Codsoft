{
 "cells": [
  {
   "cell_type": "markdown",
   "id": "55c9641e",
   "metadata": {},
   "source": [
    "# PassWord Generator"
   ]
  },
  {
   "cell_type": "code",
   "execution_count": 59,
   "id": "d8de33e5",
   "metadata": {},
   "outputs": [],
   "source": [
    "import random\n",
    "import string\n",
    "import tkinter as tk\n",
    "from tkinter import messagebox\n",
    "\n",
    "def password(length=12, uppercase=True, digits=True, usymbols=True):\n",
    "    characters = string.ascii_lowercase\n",
    "    if uppercase:\n",
    "        characters += string.ascii_uppercase\n",
    "    if digits:\n",
    "        characters += string.digits\n",
    "    if symbols:\n",
    "        characters += string.punctuation\n",
    "\n",
    "    password = ''.join(random.choice(characters) for _ in range(length))\n",
    "    return password\n",
    "\n",
    "def generate_and_show_password():\n",
    "    try:\n",
    "        password = int(length_entry.get())\n",
    "        uppercase = uppercase_var.get()\n",
    "        digits = digits_var.get()\n",
    "        symbols = symbols_var.get()\n",
    "        password = generate_password(password, uppercase, digits, symbols)\n",
    "        password_display.config(text=password)\n",
    "    except ValueError:\n",
    "        messagebox.showerror(\"Error\", \"Please enter valid password length.\")\n",
    "r= tk.Tk()\n",
    "r.title(\"Password Generator\")\n",
    "length_label = tk.Label(r, text=\"Enter the Password Length:\",bg=\"#ADD8E6\",font=('Aerial',12,'bold'))\n",
    "length_label.pack(pady=5)\n",
    "\n",
    "length_entry = tk.Entry(r, width=30)\n",
    "length_entry.pack(pady=10)\n",
    "\n",
    "uppercase_var = tk.BooleanVar()\n",
    "uppercase_check = tk.Checkbutton(r, text=\"Include Uppercase Letters\", variable=uppercase_var,bg=\"#ADD8E6\",font=('Aerial',12,'bold'))\n",
    "uppercase_check.pack(padx=5)\n",
    "\n",
    "digits_var = tk.BooleanVar()\n",
    "digits_check = tk.Checkbutton(r, text=\"Include Digits\", variable=digits_var,bg=\"#ADD8E6\",font=('Aerial',12,'bold'))\n",
    "digits_check.pack(padx=25,pady=15)\n",
    "\n",
    "symbols_var = tk.BooleanVar()\n",
    "symbols_check = tk.Checkbutton(r, text=\"Include Symbols\", variable=symbols_var,bg=\"#ADD8E6\",font=('Aerial',12,'bold'))\n",
    "symbols_check.pack()\n",
    "\n",
    "generate_button = tk.Button(r, text=\"Generate Password\", command=generate_and_show_password,font=('Aerial',12,'bold'))\n",
    "generate_button.pack(pady=10)\n",
    "\n",
    "password_display = tk.Label(r, text=\"\", font=(\"Arial\", 14, \"bold\"),bg=\"#ADD8E6\")\n",
    "password_display.pack()\n",
    "r.maxsize(300,300)\n",
    "r.minsize(300, 300)\n",
    "r['bg']=\"#ADD8E6\"\n",
    "r.mainloop()\n"
   ]
  },
  {
   "cell_type": "code",
   "execution_count": null,
   "id": "b64aef07",
   "metadata": {},
   "outputs": [],
   "source": []
  }
 ],
 "metadata": {
  "kernelspec": {
   "display_name": "Python 3 (ipykernel)",
   "language": "python",
   "name": "python3"
  },
  "language_info": {
   "codemirror_mode": {
    "name": "ipython",
    "version": 3
   },
   "file_extension": ".py",
   "mimetype": "text/x-python",
   "name": "python",
   "nbconvert_exporter": "python",
   "pygments_lexer": "ipython3",
   "version": "3.10.9"
  }
 },
 "nbformat": 4,
 "nbformat_minor": 5
}
